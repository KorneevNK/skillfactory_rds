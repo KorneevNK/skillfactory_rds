{
 "cells": [
  {
   "cell_type": "code",
   "execution_count": 2,
   "metadata": {},
   "outputs": [],
   "source": [
    "import pandas as pd\n",
    "df = pd.read_csv('files/data_sf.xls')"
   ]
  },
  {
   "cell_type": "code",
   "execution_count": 21,
   "metadata": {},
   "outputs": [
    {
     "data": {
      "text/plain": [
       "650"
      ]
     },
     "execution_count": 21,
     "metadata": {},
     "output_type": "execute_result"
    }
   ],
   "source": [
    "len(df['Club'].value_counts())"
   ]
  },
  {
   "cell_type": "code",
   "execution_count": 26,
   "metadata": {},
   "outputs": [
    {
     "data": {
      "text/plain": [
       "V-Varen Nagasaki     30\n",
       "Shonan Bellmare      30\n",
       "De Graafschap        29\n",
       "Vissel Kobe          29\n",
       "FC Emmen             29\n",
       "                     ..\n",
       "Olympiacos CFP        8\n",
       "Dinamo Zagreb         7\n",
       "Vitória Guimarães     7\n",
       "GD Chaves             7\n",
       "Atlético Mineiro      6\n",
       "Name: Club, Length: 650, dtype: int64"
      ]
     },
     "execution_count": 26,
     "metadata": {},
     "output_type": "execute_result"
    }
   ],
   "source": [
    "df.Club.value_counts()"
   ]
  },
  {
   "cell_type": "code",
   "execution_count": 29,
   "metadata": {},
   "outputs": [
    {
     "data": {
      "text/plain": [
       "GK     0.127239\n",
       "ST     0.117237\n",
       "CB     0.108785\n",
       "CM     0.082732\n",
       "LB     0.077692\n",
       "RB     0.073505\n",
       "RM     0.059394\n",
       "LM     0.056447\n",
       "CDM    0.053578\n",
       "CAM    0.049081\n",
       "RCB    0.032411\n",
       "LCB    0.031713\n",
       "LW     0.018764\n",
       "RCM    0.018609\n",
       "RW     0.018376\n",
       "LCM    0.018066\n",
       "LDM    0.011476\n",
       "RDM    0.010700\n",
       "LS     0.009382\n",
       "RS     0.008839\n",
       "RWB    0.005428\n",
       "LWB    0.004652\n",
       "CF     0.003954\n",
       "LF     0.000620\n",
       "LAM    0.000465\n",
       "RF     0.000465\n",
       "RAM    0.000388\n",
       "Name: Position, dtype: float64"
      ]
     },
     "execution_count": 29,
     "metadata": {},
     "output_type": "execute_result"
    }
   ],
   "source": [
    "df['Position'].value_counts(normalize=True)"
   ]
  }
 ],
 "metadata": {
  "kernelspec": {
   "display_name": "Python 3",
   "language": "python",
   "name": "python3"
  },
  "language_info": {
   "codemirror_mode": {
    "name": "ipython",
    "version": 3
   },
   "file_extension": ".py",
   "mimetype": "text/x-python",
   "name": "python",
   "nbconvert_exporter": "python",
   "pygments_lexer": "ipython3",
   "version": "3.7.4"
  }
 },
 "nbformat": 4,
 "nbformat_minor": 2
}
