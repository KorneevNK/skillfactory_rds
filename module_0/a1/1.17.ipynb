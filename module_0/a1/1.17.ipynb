{
 "cells": [
  {
   "cell_type": "code",
   "execution_count": 7,
   "metadata": {},
   "outputs": [
    {
     "name": "stdout",
     "output_type": "stream",
     "text": [
      "пятница\n"
     ]
    }
   ],
   "source": [
    "number = 5\n",
    "if number == 1: print('понедельник')\n",
    "elif number==2: print('вторник')\n",
    "elif number==5: print('пятница')\n",
    "else: print('другие')"
   ]
  },
  {
   "cell_type": "code",
   "execution_count": 3,
   "metadata": {},
   "outputs": [
    {
     "name": "stdout",
     "output_type": "stream",
     "text": [
      "Норма\n"
     ]
    }
   ],
   "source": [
    "weight = 80\n",
    "height=1.8\n",
    "index=weight/(height**2)\n",
    "if index<18.5: print('Недостаточная масса тела')\n",
    "elif index>=24.99: print('Избыточная масса тела')\n",
    "else: print('Норма')"
   ]
  },
  {
   "cell_type": "code",
   "execution_count": 5,
   "metadata": {},
   "outputs": [
    {
     "name": "stdout",
     "output_type": "stream",
     "text": [
      "хорошо\n"
     ]
    }
   ],
   "source": [
    "mark = 7\n",
    "if mark<4: print('неудовлетворительно')\n",
    "elif mark<=5: print('удовлетворительно')\n",
    "elif mark<=7: print('хорошо')\n",
    "else: print('отлично')"
   ]
  },
  {
   "cell_type": "code",
   "execution_count": 6,
   "metadata": {
    "scrolled": true
   },
   "outputs": [
    {
     "name": "stdout",
     "output_type": "stream",
     "text": [
      "Придётся потерпеть!\n"
     ]
    }
   ],
   "source": [
    "balance = 455\n",
    "if balance>=5000: print('Сегодня твой выбор - ресторан!')\n",
    "elif balance>=2500: print('Эх, только фастфуд.')\n",
    "else: print('Придётся потерпеть!')"
   ]
  },
  {
   "cell_type": "code",
   "execution_count": 18,
   "metadata": {},
   "outputs": [
    {
     "name": "stdout",
     "output_type": "stream",
     "text": [
      "Число делится на 2 без остатка.\n"
     ]
    }
   ],
   "source": [
    "number = 452\n",
    "if number %2==0: print('Число делится на 2 без остатка.')\n",
    "elif number %3==0: print('Число делится на 3 без остатка.')\n",
    "elif number %5==0: print('Число делится на 5 без остатка.')\n",
    "else: print('Число не делится ни на 2, ни на 3, ни на 5 без остатка!')"
   ]
  }
 ],
 "metadata": {
  "kernelspec": {
   "display_name": "Python 3",
   "language": "python",
   "name": "python3"
  },
  "language_info": {
   "codemirror_mode": {
    "name": "ipython",
    "version": 3
   },
   "file_extension": ".py",
   "mimetype": "text/x-python",
   "name": "python",
   "nbconvert_exporter": "python",
   "pygments_lexer": "ipython3",
   "version": "3.7.4"
  }
 },
 "nbformat": 4,
 "nbformat_minor": 2
}
